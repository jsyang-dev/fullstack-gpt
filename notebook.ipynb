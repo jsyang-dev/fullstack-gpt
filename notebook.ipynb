{
 "cells": [
  {
   "cell_type": "code",
   "execution_count": 1,
   "metadata": {},
   "outputs": [],
   "source": [
    "from langchain.utilities.duckduckgo_search import DuckDuckGoSearchAPIWrapper\n",
    "import yfinance\n",
    "import json\n",
    "\n",
    "\n",
    "def get_ticker(inputs):\n",
    "    ddg = DuckDuckGoSearchAPIWrapper()\n",
    "    company_name = inputs[\"company_name\"]\n",
    "    return ddg.run(f\"Ticker symbol of {company_name}\")\n",
    "\n",
    "\n",
    "def get_income_statement(inputs):\n",
    "    ticker = inputs[\"ticker\"]\n",
    "    stock = yfinance.Ticker(ticker)\n",
    "    return json.dumps(stock.income_stmt.to_json())\n",
    "\n",
    "\n",
    "def get_balance_sheet(inputs):\n",
    "    ticker = inputs[\"ticker\"]\n",
    "    stock = yfinance.Ticker(ticker)\n",
    "    return json.dumps(stock.balance_sheet.to_json())\n",
    "\n",
    "\n",
    "def get_daily_stock_performance(inputs):\n",
    "    ticker = inputs[\"ticker\"]\n",
    "    stock = yfinance.Ticker(ticker)\n",
    "    return json.dumps(stock.history(period=\"3mo\").to_json())\n",
    "\n",
    "\n",
    "functions_map = {\n",
    "    \"get_ticker\": get_ticker,\n",
    "    \"get_income_statement\": get_income_statement,\n",
    "    \"get_balance_sheet\": get_balance_sheet,\n",
    "    \"get_daily_stock_performance\": get_daily_stock_performance,\n",
    "}\n",
    "\n",
    "\n",
    "functions = [\n",
    "    {\n",
    "        \"type\": \"function\",\n",
    "        \"function\": {\n",
    "            \"name\": \"get_ticker\",\n",
    "            \"description\": \"Given the name of a company returns its ticker symbol\",\n",
    "            \"parameters\": {\n",
    "                \"type\": \"object\",\n",
    "                \"properties\": {\n",
    "                    \"company_name\": {\n",
    "                        \"type\": \"string\",\n",
    "                        \"description\": \"The name of the company\",\n",
    "                    }\n",
    "                },\n",
    "                \"required\": [\"company_name\"],\n",
    "            },\n",
    "        },\n",
    "    },\n",
    "    {\n",
    "        \"type\": \"function\",\n",
    "        \"function\": {\n",
    "            \"name\": \"get_income_statement\",\n",
    "            \"description\": \"Given a ticker symbol (i.e AAPL) returns the company's income statement.\",\n",
    "            \"parameters\": {\n",
    "                \"type\": \"object\",\n",
    "                \"properties\": {\n",
    "                    \"ticker\": {\n",
    "                        \"type\": \"string\",\n",
    "                        \"description\": \"Ticker symbol of the company\",\n",
    "                    },\n",
    "                },\n",
    "                \"required\": [\"ticker\"],\n",
    "            },\n",
    "        },\n",
    "    },\n",
    "    {\n",
    "        \"type\": \"function\",\n",
    "        \"function\": {\n",
    "            \"name\": \"get_balance_sheet\",\n",
    "            \"description\": \"Given a ticker symbol (i.e AAPL) returns the company's balance sheet.\",\n",
    "            \"parameters\": {\n",
    "                \"type\": \"object\",\n",
    "                \"properties\": {\n",
    "                    \"ticker\": {\n",
    "                        \"type\": \"string\",\n",
    "                        \"description\": \"Ticker symbol of the company\",\n",
    "                    },\n",
    "                },\n",
    "                \"required\": [\"ticker\"],\n",
    "            },\n",
    "        },\n",
    "    },\n",
    "    {\n",
    "        \"type\": \"function\",\n",
    "        \"function\": {\n",
    "            \"name\": \"get_daily_stock_performance\",\n",
    "            \"description\": \"Given a ticker symbol (i.e AAPL) returns the performance of the stock for the last 100 days.\",\n",
    "            \"parameters\": {\n",
    "                \"type\": \"object\",\n",
    "                \"properties\": {\n",
    "                    \"ticker\": {\n",
    "                        \"type\": \"string\",\n",
    "                        \"description\": \"Ticker symbol of the company\",\n",
    "                    },\n",
    "                },\n",
    "                \"required\": [\"ticker\"],\n",
    "            },\n",
    "        },\n",
    "    },\n",
    "]"
   ]
  },
  {
   "cell_type": "code",
   "execution_count": 2,
   "metadata": {},
   "outputs": [],
   "source": [
    "import openai as client\n",
    "\n",
    "# assistant = client.beta.assistants.create(\n",
    "#     name=\"Investor Assistant\",\n",
    "#     instructions=\"You help users do research on publicly traded companies and you help users decide if they should buy the stock or not.\",\n",
    "#     model=\"gpt-4-1106-preview\",\n",
    "#     tools=functions,\n",
    "# )\n",
    "assistant_id = \"asst_gLmlNp9EnQaeyt9ale3kpOlc\""
   ]
  },
  {
   "cell_type": "code",
   "execution_count": 3,
   "metadata": {},
   "outputs": [
    {
     "data": {
      "text/plain": [
       "Thread(id='thread_AjxSoC0AS93LXEMqPLnc1Dy8', created_at=1735383320, metadata={}, object='thread', tool_resources=ToolResources(code_interpreter=None, file_search=None))"
      ]
     },
     "execution_count": 3,
     "metadata": {},
     "output_type": "execute_result"
    }
   ],
   "source": [
    "thread = client.beta.threads.create(\n",
    "    messages=[\n",
    "        {\n",
    "            \"role\": \"user\",\n",
    "            \"content\": \"I want to know if the Salesforce stock is a good buy\",\n",
    "        }\n",
    "    ]\n",
    ")\n",
    "thread"
   ]
  },
  {
   "cell_type": "code",
   "execution_count": 5,
   "metadata": {},
   "outputs": [
    {
     "data": {
      "text/plain": [
       "Run(id='run_KEdK2lHPo0QbiAR9JrbreTvA', assistant_id='asst_gLmlNp9EnQaeyt9ale3kpOlc', cancelled_at=None, completed_at=None, created_at=1735383410, expires_at=1735384010, failed_at=None, incomplete_details=None, instructions='You help users do research on publicly traded companies and you help users decide if they should buy the stock or not.', last_error=None, max_completion_tokens=None, max_prompt_tokens=None, metadata={}, model='gpt-4-1106-preview', object='thread.run', parallel_tool_calls=True, required_action=None, response_format='auto', started_at=None, status='queued', thread_id='thread_AjxSoC0AS93LXEMqPLnc1Dy8', tool_choice='auto', tools=[FunctionTool(function=FunctionDefinition(name='get_ticker', description='Given the name of a company returns its ticker symbol', parameters={'type': 'object', 'properties': {'company_name': {'type': 'string', 'description': 'The name of the company'}}, 'required': ['company_name']}, strict=False), type='function'), FunctionTool(function=FunctionDefinition(name='get_income_statement', description=\"Given a ticker symbol (i.e AAPL) returns the company's income statement.\", parameters={'type': 'object', 'properties': {'ticker': {'type': 'string', 'description': 'Ticker symbol of the company'}}, 'required': ['ticker']}, strict=False), type='function'), FunctionTool(function=FunctionDefinition(name='get_balance_sheet', description=\"Given a ticker symbol (i.e AAPL) returns the company's balance sheet.\", parameters={'type': 'object', 'properties': {'ticker': {'type': 'string', 'description': 'Ticker symbol of the company'}}, 'required': ['ticker']}, strict=False), type='function'), FunctionTool(function=FunctionDefinition(name='get_daily_stock_performance', description='Given a ticker symbol (i.e AAPL) returns the performance of the stock for the last 100 days.', parameters={'type': 'object', 'properties': {'ticker': {'type': 'string', 'description': 'Ticker symbol of the company'}}, 'required': ['ticker']}, strict=False), type='function')], truncation_strategy=TruncationStrategy(type='auto', last_messages=None), usage=None, temperature=1.0, top_p=1.0, tool_resources={})"
      ]
     },
     "execution_count": 5,
     "metadata": {},
     "output_type": "execute_result"
    }
   ],
   "source": [
    "run = client.beta.threads.runs.create(\n",
    "    thread_id=thread.id,\n",
    "    assistant_id=assistant_id,\n",
    ")\n",
    "run"
   ]
  },
  {
   "cell_type": "code",
   "execution_count": 6,
   "metadata": {},
   "outputs": [],
   "source": [
    "def get_run(run_id, thread_id):\n",
    "    return client.beta.threads.runs.retrieve(\n",
    "        run_id=run_id,\n",
    "        thread_id=thread_id,\n",
    "    )\n",
    "\n",
    "\n",
    "def send_message(thread_id, content):\n",
    "    return client.beta.threads.messages.create(\n",
    "        thread_id=thread_id, role=\"user\", content=content\n",
    "    )\n",
    "\n",
    "\n",
    "def get_messages(thread_id):\n",
    "    messages = client.beta.threads.messages.list(thread_id=thread_id)\n",
    "    messages = list(messages)\n",
    "    messages.reverse()\n",
    "    for message in messages:\n",
    "        print(f\"{message.role}: {message.content[0].text.value}\")\n",
    "\n",
    "\n",
    "def get_tool_outputs(run_id, thread_id):\n",
    "    run = get_run(run_id, thread.id)\n",
    "    outputs = []\n",
    "    for action in run.required_action.submit_tool_outputs.tool_calls:\n",
    "        action_id = action.id\n",
    "        function = action.function\n",
    "        print(f\"Calling function: {function.name} with arg {function.arguments}\")\n",
    "        outputs.append(\n",
    "            {\n",
    "                \"output\": functions_map[function.name](json.loads(function.arguments)),\n",
    "                \"tool_call_id\": action_id,\n",
    "            }\n",
    "        )\n",
    "    return outputs\n",
    "\n",
    "\n",
    "def submit_tool_outputs(run_id, thread_id):\n",
    "    outpus = get_tool_outputs(run_id, thread_id)\n",
    "    return client.beta.threads.runs.submit_tool_outputs(\n",
    "        run_id=run_id, thread_id=thread_id, tool_outputs=outpus\n",
    "    )"
   ]
  },
  {
   "cell_type": "code",
   "execution_count": 11,
   "metadata": {},
   "outputs": [
    {
     "name": "stdout",
     "output_type": "stream",
     "text": [
      "Calling function: get_income_statement with arg {\"ticker\": \"CRM\"}\n",
      "Calling function: get_balance_sheet with arg {\"ticker\": \"CRM\"}\n",
      "Calling function: get_daily_stock_performance with arg {\"ticker\": \"CRM\"}\n"
     ]
    },
    {
     "data": {
      "text/plain": [
       "Run(id='run_KEdK2lHPo0QbiAR9JrbreTvA', assistant_id='asst_gLmlNp9EnQaeyt9ale3kpOlc', cancelled_at=None, completed_at=None, created_at=1735383410, expires_at=1735384010, failed_at=None, incomplete_details=None, instructions='You help users do research on publicly traded companies and you help users decide if they should buy the stock or not.', last_error=None, max_completion_tokens=None, max_prompt_tokens=None, metadata={}, model='gpt-4-1106-preview', object='thread.run', parallel_tool_calls=True, required_action=None, response_format='auto', started_at=1735383436, status='queued', thread_id='thread_AjxSoC0AS93LXEMqPLnc1Dy8', tool_choice='auto', tools=[FunctionTool(function=FunctionDefinition(name='get_ticker', description='Given the name of a company returns its ticker symbol', parameters={'type': 'object', 'properties': {'company_name': {'type': 'string', 'description': 'The name of the company'}}, 'required': ['company_name']}, strict=False), type='function'), FunctionTool(function=FunctionDefinition(name='get_income_statement', description=\"Given a ticker symbol (i.e AAPL) returns the company's income statement.\", parameters={'type': 'object', 'properties': {'ticker': {'type': 'string', 'description': 'Ticker symbol of the company'}}, 'required': ['ticker']}, strict=False), type='function'), FunctionTool(function=FunctionDefinition(name='get_balance_sheet', description=\"Given a ticker symbol (i.e AAPL) returns the company's balance sheet.\", parameters={'type': 'object', 'properties': {'ticker': {'type': 'string', 'description': 'Ticker symbol of the company'}}, 'required': ['ticker']}, strict=False), type='function'), FunctionTool(function=FunctionDefinition(name='get_daily_stock_performance', description='Given a ticker symbol (i.e AAPL) returns the performance of the stock for the last 100 days.', parameters={'type': 'object', 'properties': {'ticker': {'type': 'string', 'description': 'Ticker symbol of the company'}}, 'required': ['ticker']}, strict=False), type='function')], truncation_strategy=TruncationStrategy(type='auto', last_messages=None), usage=None, temperature=1.0, top_p=1.0, tool_resources={})"
      ]
     },
     "execution_count": 11,
     "metadata": {},
     "output_type": "execute_result"
    }
   ],
   "source": [
    "submit_tool_outputs(run.id, thread.id)"
   ]
  },
  {
   "cell_type": "code",
   "execution_count": 14,
   "metadata": {},
   "outputs": [
    {
     "data": {
      "text/plain": [
       "'completed'"
      ]
     },
     "execution_count": 14,
     "metadata": {},
     "output_type": "execute_result"
    }
   ],
   "source": [
    "get_run(run.id, thread.id).status"
   ]
  },
  {
   "cell_type": "code",
   "execution_count": 15,
   "metadata": {},
   "outputs": [
    {
     "name": "stdout",
     "output_type": "stream",
     "text": [
      "user: I want to know if the Salesforce stock is a good buy\n",
      "assistant: To analyze whether Salesforce (CRM) stock is a good buy, we can consider several factors including the company's financial health, stock performance, and market conditions. Here's the information we have:\n",
      "\n",
      "### Financial Health\n",
      "From the most recent income statement, we have the following key figures:\n",
      "- Total Revenue: $34.857 billion\n",
      "- Cost of Revenue: $8.541 billion\n",
      "- Gross Profit: $26.316 billion\n",
      "- Net Income: $4.136 billion\n",
      "- Operating Income: $5.999 billion\n",
      "- Research and Development Expenses: $4.906 billion\n",
      "\n",
      "The balance sheet shows:\n",
      "- Total Assets: $99.823 billion\n",
      "- Total Liabilities: $40.177 billion\n",
      "- Total Equity: $59.646 billion\n",
      "- Long Term Debt: $8.427 billion\n",
      "\n",
      "### Stock Performance\n",
      "Over the last 100 days, the stock has seen fluctuations with some peaks and troughs. Notably, there's a dividend payout of $0.4 which indicates the company is returning value to shareholders. The stock has had significant movement ranging from lows around $270 to highs above $340, demonstrating considerable volatility.\n",
      "\n",
      "### Analysis\n",
      "Revenue and gross profit are strong, indicating good sales efficiency and ability to manage costs. The net income and operating income are also substantial, implying that the company is profitable and managing its operations effectively. Salesforce's investment in research and development is significant, which can be a positive sign of future growth and innovation.\n",
      "\n",
      "The balance sheet reflects a solid financial position with more assets than liabilities, and a healthy equity to debt ratio. However, the long-term debt is sizable and should be considered in a broader context of the company's long-term financial strategy.\n",
      "\n",
      "In terms of stock performance, the fluctuation suggests market sentiment has been variable, and potential investors should consider if the volatility aligns with their risk tolerance.\n",
      "\n",
      "### Conclusion\n",
      "Salesforce appears to maintain a strong financial position and operates profitably. The recent stock performance shows both growth potential and volatility. Before making an investment decision, it would be prudent to consider Salesforce's business strategy, the competitive landscape, broader market trends, and individual investment goals and risk appetite. Financial and industry analysis, expert opinions, and market forecasts could provide additional insights to inform whether to buy Salesforce stock.\n",
      "\n",
      "If you're considering buying shares, it may be wise to further research the company's strategic direction, upcoming products or services, and any economic factors that could affect the stock price. Consulting with a financial advisor could also be beneficial.\n",
      "\n",
      "Please note that this information does not constitute financial advice and the decision to invest in any stock should be based on a comprehensive personal financial assessment.\n"
     ]
    }
   ],
   "source": [
    "get_messages(thread.id)"
   ]
  }
 ],
 "metadata": {
  "kernelspec": {
   "display_name": "env",
   "language": "python",
   "name": "python3"
  },
  "language_info": {
   "codemirror_mode": {
    "name": "ipython",
    "version": 3
   },
   "file_extension": ".py",
   "mimetype": "text/x-python",
   "name": "python",
   "nbconvert_exporter": "python",
   "pygments_lexer": "ipython3",
   "version": "3.11.10"
  }
 },
 "nbformat": 4,
 "nbformat_minor": 2
}
