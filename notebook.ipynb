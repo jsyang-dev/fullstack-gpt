{
 "cells": [
  {
   "cell_type": "code",
   "execution_count": 4,
   "metadata": {},
   "outputs": [
    {
     "data": {
      "text/plain": [
       "\"Based on the additional context provided, it is clear that Winston Smith lives in Victory Mansions, a dilapidated apartment building where he is constantly under surveillance by the ruling party. The oppressive regime, led by Big Brother, enforces strict control over the citizens, with posters and telescreens reminding them that they are always being watched. Winston's living situation is characterized by a lack of privacy and freedom, as every sound he makes and every movement he takes is monitored by the Thought Police. Despite the grim and oppressive environment, Winston seeks ways to resist and rebel against the totalitarian regime, such as acquiring forbidden materials like the book he obtained from a junk shop.\""
      ]
     },
     "execution_count": 4,
     "metadata": {},
     "output_type": "execute_result"
    }
   ],
   "source": [
    "from langchain.chat_models import ChatOpenAI\n",
    "from langchain.document_loaders import UnstructuredFileLoader\n",
    "from langchain.text_splitter import CharacterTextSplitter\n",
    "from langchain.embeddings import OpenAIEmbeddings, CacheBackedEmbeddings\n",
    "from langchain.vectorstores import FAISS\n",
    "from langchain.storage import LocalFileStore\n",
    "from langchain.chains import RetrievalQA\n",
    "\n",
    "llm = ChatOpenAI()\n",
    "\n",
    "cache_dir = LocalFileStore(\"./.cache/\")\n",
    "\n",
    "splitter = CharacterTextSplitter.from_tiktoken_encoder(\n",
    "    separator=\"\\n\",\n",
    "    chunk_size=600,\n",
    "    chunk_overlap=100,\n",
    ")\n",
    "loader = UnstructuredFileLoader(\"./files/chapter_one.docx\")\n",
    "\n",
    "docs = loader.load_and_split(text_splitter=splitter)\n",
    "\n",
    "embeddings = OpenAIEmbeddings()\n",
    "\n",
    "cached_embeddings = CacheBackedEmbeddings.from_bytes_store(embeddings, cache_dir)\n",
    "\n",
    "vectorstore = FAISS.from_documents(docs, cached_embeddings)\n",
    "\n",
    "chain = RetrievalQA.from_chain_type(\n",
    "    llm=llm,\n",
    "    chain_type=\"refine\",\n",
    "    retriever=vectorstore.as_retriever(),\n",
    ")\n",
    "\n",
    "chain.run(\"Where does winston live?\")"
   ]
  },
  {
   "cell_type": "code",
   "execution_count": 5,
   "metadata": {},
   "outputs": [
    {
     "data": {
      "text/plain": [
       "'Victory Mansions is the name of the apartment building where Winston Smith resides in George Orwell\\'s novel \"1984.\" It is a run-down, dilapidated building located in Airstrip One, a province of the superstate Oceania. The building lacks basic amenities, and the living conditions are poor, with shortages of food, electricity, and other necessities. The hallway of Victory Mansions is described as smelling of boiled cabbage and old rag mats. The building stands in stark contrast to the grandeur of Party institutions like the Ministry of Truth, which towers above the grimy landscape of London. The Ministry of Truth is an enormous pyramidal structure of glittering white concrete, containing three thousand rooms above ground level and corresponding ramifications below. Victory Mansions serves as a symbol of the oppressive and grim living conditions that the residents endure under the Party\\'s rule, highlighting the stark disparities in society.\\n\\nIn the context provided, Winston\\'s apartment in Victory Mansions is described as having an unusual layout, with the telescreen positioned in a way that allows Winston to sit in an alcove and remain out of its direct line of sight. This detail adds to the oppressive atmosphere of the building, as residents are constantly surveilled by the Party through telescreens. Additionally, Winston\\'s possession of an old, forbidden book further emphasizes the contrast between the decrepit living conditions of Victory Mansions and the strict control exerted by the Party over information and knowledge. The presence of the book hints at Winston\\'s rebellious nature and his desire for freedom of thought, which is severely restricted in the oppressive society of Oceania.'"
      ]
     },
     "execution_count": 5,
     "metadata": {},
     "output_type": "execute_result"
    }
   ],
   "source": [
    "chain.run(\"Describe Victory Mansions\")"
   ]
  }
 ],
 "metadata": {
  "kernelspec": {
   "display_name": "env",
   "language": "python",
   "name": "python3"
  },
  "language_info": {
   "codemirror_mode": {
    "name": "ipython",
    "version": 3
   },
   "file_extension": ".py",
   "mimetype": "text/x-python",
   "name": "python",
   "nbconvert_exporter": "python",
   "pygments_lexer": "ipython3",
   "version": "3.11.10"
  }
 },
 "nbformat": 4,
 "nbformat_minor": 2
}
