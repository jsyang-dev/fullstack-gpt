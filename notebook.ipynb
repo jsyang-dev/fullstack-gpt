{
 "cells": [
  {
   "cell_type": "code",
   "execution_count": 1,
   "metadata": {},
   "outputs": [
    {
     "name": "stdout",
     "output_type": "stream",
     "text": [
      "\n",
      "\n",
      "\u001b[1m> Entering new AgentExecutor chain...\u001b[0m\n",
      "\u001b[32;1m\u001b[1;3m\n",
      "Invoking: `StockMarketSymbolSearchTool` with `{'query': 'Cloudflare stock'}`\n",
      "\n",
      "\n",
      "\u001b[0m\u001b[36;1m\u001b[1;3mIn the latest trading session, Cloudflare (NET) closed at $111.58, marking a -0.99% move from the previous day. The stock fell short of the S&P 500, which registered a gain of 0.73% for the day ... Get the latest information on Cloudflare Inc (NET), a software company that offers security and web performance solutions. See its stock price, earnings, valuation, competitors, and more. Get the latest information on Cloudflare, Inc. (NET), a leading connectivity cloud company, including its stock price, earnings, news, analysis, and more. See how Cloudflare's revenue, margin, and innovation are driving its growth and valuation. Cloudflare's stock has recently been incredibly volatile, ranging between approximately $30 and $80. The significant price movements have been in response to news and events affecting the broader tech industry. Cloudflare operates in the highly competitive cybersecurity industry, characterized by rapid technological change, intense competition ... Get the latest stock price, chart, news and analysis for Cloudflare Inc (NET:US), a software company that offers platform for load balancing, video streaming, security, analysis, and domain registration. See how Cloudflare performs in the market and compare with other stocks.\u001b[0m\u001b[32;1m\u001b[1;3mThe stock symbol for Cloudflare is NET. As of the latest trading session, Cloudflare (NET) closed at $111.58. The stock has shown volatility, ranging between approximately $30 and $80. Cloudflare operates in the competitive cybersecurity industry and offers security and web performance solutions.\n",
      "\n",
      "To analyze if Cloudflare is a potential good investment, we need to consider various factors such as the company's financial performance, growth prospects, competitive position, and market trends. It's important to conduct a thorough analysis of the company's financial statements, revenue growth, profitability, and future outlook.\n",
      "\n",
      "Additionally, you may want to consider factors such as industry trends, market conditions, and analyst recommendations before making an investment decision. It's recommended to consult with a financial advisor or do further research to determine if Cloudflare is a suitable investment for your portfolio.\u001b[0m\n",
      "\n",
      "\u001b[1m> Finished chain.\u001b[0m\n"
     ]
    },
    {
     "data": {
      "text/plain": [
       "{'input': \"Give me information on Cloudflare's stock and help me analyze if it's a potential good investment. Also tell me what symbol does the stock have.\",\n",
       " 'output': \"The stock symbol for Cloudflare is NET. As of the latest trading session, Cloudflare (NET) closed at $111.58. The stock has shown volatility, ranging between approximately $30 and $80. Cloudflare operates in the competitive cybersecurity industry and offers security and web performance solutions.\\n\\nTo analyze if Cloudflare is a potential good investment, we need to consider various factors such as the company's financial performance, growth prospects, competitive position, and market trends. It's important to conduct a thorough analysis of the company's financial statements, revenue growth, profitability, and future outlook.\\n\\nAdditionally, you may want to consider factors such as industry trends, market conditions, and analyst recommendations before making an investment decision. It's recommended to consult with a financial advisor or do further research to determine if Cloudflare is a suitable investment for your portfolio.\"}"
      ]
     },
     "execution_count": 1,
     "metadata": {},
     "output_type": "execute_result"
    }
   ],
   "source": [
    "from typing import Any, Type\n",
    "from langchain.chat_models import ChatOpenAI\n",
    "from langchain.tools import BaseTool\n",
    "from pydantic import BaseModel, Field\n",
    "from langchain.agents import initialize_agent, AgentType\n",
    "from langchain.utilities import DuckDuckGoSearchAPIWrapper\n",
    "\n",
    "llm = ChatOpenAI(temperature=0.1)\n",
    "\n",
    "\n",
    "class StockMarketSymbolSearchToolArgsSchema(BaseModel):\n",
    "    query: str = Field(\n",
    "        description=\"The query you will search for.Example query: Stock Market Symbol for Apple Company\"\n",
    "    )\n",
    "\n",
    "\n",
    "class StockMarketSymbolSearchTool(BaseTool):\n",
    "    name = \"StockMarketSymbolSearchTool\"\n",
    "    description = \"\"\"\n",
    "    Use this tool to find the stock market symbol for a company.\n",
    "    It takes a query as an argument.\n",
    "    \n",
    "    \"\"\"\n",
    "    args_schema: Type[\n",
    "        StockMarketSymbolSearchToolArgsSchema\n",
    "    ] = StockMarketSymbolSearchToolArgsSchema\n",
    "\n",
    "    def _run(self, query):\n",
    "        ddg = DuckDuckGoSearchAPIWrapper()\n",
    "        return ddg.run(query)\n",
    "\n",
    "\n",
    "agent = initialize_agent(\n",
    "    llm=llm,\n",
    "    verbose=True,\n",
    "    agent=AgentType.OPENAI_FUNCTIONS,\n",
    "    handle_parsing_errors=True,\n",
    "    tools=[\n",
    "        StockMarketSymbolSearchTool(),\n",
    "    ],\n",
    ")\n",
    "\n",
    "prompt = \"Give me information on Cloudflare's stock and help me analyze if it's a potential good investment. Also tell me what symbol does the stock have.\"\n",
    "\n",
    "agent.invoke(prompt)"
   ]
  }
 ],
 "metadata": {
  "kernelspec": {
   "display_name": "env",
   "language": "python",
   "name": "python3"
  },
  "language_info": {
   "codemirror_mode": {
    "name": "ipython",
    "version": 3
   },
   "file_extension": ".py",
   "mimetype": "text/x-python",
   "name": "python",
   "nbconvert_exporter": "python",
   "pygments_lexer": "ipython3",
   "version": "3.11.10"
  }
 },
 "nbformat": 4,
 "nbformat_minor": 2
}
